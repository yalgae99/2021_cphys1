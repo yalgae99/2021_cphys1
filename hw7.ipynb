{
 "cells": [
  {
   "cell_type": "code",
   "execution_count": 1,
   "metadata": {},
   "outputs": [],
   "source": [
    "import matplotlib.pyplot as plt\n",
    "import numpy as np\n"
   ]
  },
  {
   "cell_type": "markdown",
   "metadata": {},
   "source": [
    "# Pauli Matrices\n",
    "\n",
    "파울리 행렬의 아이겐밸류와 아이겐벡터를 구하시오.  \n",
    "\n",
    "$$ s_x = \\begin{pmatrix} 0 & 1 \\\\ 1 & 0 \\end{pmatrix}, \\quad\n",
    "s_y = \\begin{pmatrix} 0 & -j \\\\ j & 0 \\end{pmatrix}, \\quad\n",
    "s_z  = \\begin{pmatrix} 1 & 0 \\\\ 0 & -1 \\end{pmatrix}. $$"
   ]
  },
  {
   "cell_type": "code",
   "execution_count": 2,
   "metadata": {},
   "outputs": [
    {
     "name": "stdout",
     "output_type": "stream",
     "text": [
      "(array([ 1., -1.]), array([[ 0.70710678, -0.70710678],\n",
      "       [ 0.70710678,  0.70710678]]))\n",
      "(array([ 1.+0.j, -1.+0.j]), array([[-0.        -0.70710678j,  0.70710678+0.j        ],\n",
      "       [ 0.70710678+0.j        ,  0.        -0.70710678j]]))\n",
      "(array([ 1., -1.]), array([[1., 0.],\n",
      "       [0., 1.]]))\n"
     ]
    }
   ],
   "source": [
    "s_x=np.array([[0,1],[1,0]])\n",
    "s_y=np.array([[0,-1j],[1j,0]])\n",
    "s_z=np.array([[1,0],[0,-1]])\n",
    "eig_x=np.linalg.eig(s_x)\n",
    "eig_y=np.linalg.eig(s_y)\n",
    "eig_z=np.linalg.eig(s_z)\n",
    "print(eig_x) # eigenvalue and eigenvector \n",
    "print(eig_y)\n",
    "print(eig_z)"
   ]
  },
  {
   "cell_type": "markdown",
   "metadata": {},
   "source": [
    "# Normal Modes "
   ]
  },
  {
   "cell_type": "markdown",
   "metadata": {},
   "source": [
    "(고전역학 by Thornton & Marion 챕터 12.2 및 예제 12.3 참조)\n",
    "용수철 상수가 $k$인 용수철에 연결된 두 개의 물체의 노말 모드를 구해보자. 두 개의 물체의 운동방정식은 다음으로 주어진다.\n",
    "$$ -m w^2 x_1 = -2kx_1 +k x_2, \\\\\n",
    "-m w^2 x_2 = k x_1 - 2 k x_2.$$\n",
    "eigenfrequencies $w$는 다음의 행렬식을 통해 구할 수 있다.\n",
    "$$ \\frac{k}{m w^2} \\begin{pmatrix} 2 & -1 \\\\ -1 & 2 \\end{pmatrix} \n",
    "\\begin{pmatrix} x_1 \\\\ x_2 \\end{pmatrix}=\n",
    "\\lambda \\begin{pmatrix} x_1 \\\\ x_2 \\end{pmatrix} $$"
   ]
  },
  {
   "cell_type": "code",
   "execution_count": 3,
   "metadata": {},
   "outputs": [
    {
     "name": "stdout",
     "output_type": "stream",
     "text": [
      "(array([3., 1.]), array([[ 0.70710678,  0.70710678],\n",
      "       [-0.70710678,  0.70710678]]))\n"
     ]
    }
   ],
   "source": [
    "# 위의 행렬의 고유값을 구하자.\n",
    "coupled=np.array([[2,-1],[-1,2]])\n",
    "eig_coupled=np.linalg.eig(coupled)\n",
    "print(eig_coupled)"
   ]
  },
  {
   "cell_type": "markdown",
   "metadata": {},
   "source": [
    "$$ \\frac{\\lambda_1mw^2}{k}=1 ,\\frac{\\lambda_2mw^2}{k}=3 $$\n",
    "$$ \\lambda_1=1, \\lambda_2=3 $$"
   ]
  },
  {
   "cell_type": "markdown",
   "metadata": {},
   "source": [
    "따라서 eigenfrequencies는\n",
    "$$ w_1 = \\sqrt{\\frac{k}{m}}, \\quad w_2 = \\sqrt{\\frac{3k}{m}}. $$"
   ]
  },
  {
   "cell_type": "markdown",
   "metadata": {},
   "source": [
    "위에서 구한 아이겐벡터와 아이겐밸류의 의미를 설명하여라."
   ]
  },
  {
   "cell_type": "markdown",
   "metadata": {},
   "source": [
    "미분방정식의 해는 다음과 같은 형태를 따른다. $x(t)=ce^{iwt}$ (c는 상수이며 t로 두 번 미분할 경우 $ -mw^2x(t) $ 가 된다.)\n",
    "\n",
    "위에서 구한 아이겐밸류에 의해 eigenfrequencies $w_1$ 과 $w_2$가 결정된다.\n",
    "아이겐벡터의 각 성분  $x_1$ 과 $x_2$는 x(t)에서 앞에 상수 c이며 진폭을 의미한다. "
   ]
  },
  {
   "cell_type": "markdown",
   "metadata": {},
   "source": [
    "정리하자면, 주어진 상황에는 두 개의 모드가 있다.\n",
    "$$1)w=w_1$$\n",
    "$$x_1(t)=ce^{iw_1t}$$\n",
    "$$x_2(t)=ce^{iw_1t}$$\n",
    "$$2)w=w_2$$\n",
    "$$x_1(t)=ce^{iw_2t}$$\n",
    "$$x_2(t)=-ce^{iw_2t}$$\n",
    "위에서 구한 대로 $w=w_2$ 에 해당하는 아이겐벡터의  $x_1,x_2$는 크기가 같고 부호가 반대이다. 즉, 두 물체가 가까워 졌다 멀어졌다를 반복하며 움직인다."
   ]
  },
  {
   "cell_type": "code",
   "execution_count": null,
   "metadata": {},
   "outputs": [],
   "source": []
  },
  {
   "cell_type": "code",
   "execution_count": null,
   "metadata": {},
   "outputs": [],
   "source": []
  }
 ],
 "metadata": {
  "kernelspec": {
   "display_name": "Python 3",
   "language": "python",
   "name": "python3"
  },
  "language_info": {
   "codemirror_mode": {
    "name": "ipython",
    "version": 3
   },
   "file_extension": ".py",
   "mimetype": "text/x-python",
   "name": "python",
   "nbconvert_exporter": "python",
   "pygments_lexer": "ipython3",
   "version": "3.8.3"
  }
 },
 "nbformat": 4,
 "nbformat_minor": 2
}
