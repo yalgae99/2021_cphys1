{
 "cells": [
  {
   "cell_type": "code",
   "execution_count": 2,
   "metadata": {},
   "outputs": [],
   "source": [
    "import numpy as np\n",
    "import random\n",
    "import matplotlib.pyplot as plt"
   ]
  },
  {
   "cell_type": "markdown",
   "metadata": {},
   "source": [
    "# 1. Hypersphere"
   ]
  },
  {
   "cell_type": "markdown",
   "metadata": {},
   "source": [
    "$n$차원에서의 구를 초구(hypershpere)라고 한다. 반지름이 $r$인 2차권 구의 부피(면적)은 $S_2=\\pi r^2$, 3차원은 $S_3=\\frac{4}{3} \\pi r^3$이다. 이를 확장하여 4차원, 5차원 구의 부피를 몬테카를로 방법을 이용하여 추측해보자. \n",
    "* $n$차원 구의 부피는 $S_n = C_n r^n$이다.\n",
    "* 따라서 반지름이 1인 구를 생각하면 $S_n=C_n$과 같다.\n",
    "* 몬테카를로 방법을 이용한 2차원 원의 면적 문제를 응용하여 3, 4, 5차원에서 $C_n$의 근사값을 구하여라."
   ]
  },
  {
   "cell_type": "code",
   "execution_count": 28,
   "metadata": {},
   "outputs": [],
   "source": [
    "def h_sphere(n,dim):\n",
    "    count=0\n",
    "    for i in range(n):\n",
    "        sum=0\n",
    "        for j in range(dim):\n",
    "            a=random.random() \n",
    "            sum+=a**2\n",
    "        if sum<1:\n",
    "            count+=1\n",
    "\n",
    "    return (count/n*2**dim)\n",
    "        "
   ]
  },
  {
   "cell_type": "code",
   "execution_count": 32,
   "metadata": {},
   "outputs": [
    {
     "name": "stdout",
     "output_type": "stream",
     "text": [
      "4.17728\n",
      "4.1887902047863905\n",
      "4.98224\n",
      "4.934802200544679\n",
      "5.31712\n",
      "5.263789013914324\n"
     ]
    }
   ],
   "source": [
    "#radius=1 \n",
    "print(h_sphere(100000,3))\n",
    "print(4/3*np.pi)\n",
    "print(h_sphere(100000,4))\n",
    "print(1/2*np.pi**2)\n",
    "print(h_sphere(100000,5))\n",
    "print(8/15*np.pi**2)"
   ]
  },
  {
   "cell_type": "markdown",
   "metadata": {},
   "source": [
    "# 2. Particles in a box"
   ]
  },
  {
   "cell_type": "markdown",
   "metadata": {},
   "source": [
    "1차원 무한히 깊은 퍼텐셜 상자 (길이 $L$) 안에 있는 양자 입자를 생각해 봅시다. 가능한 에너지 상태는 다음과 같습니다.\n",
    "\n",
    "$$ E_n = \\frac{\\pi^2 \\hbar^2}{2m L^2} n^2.$$\n",
    "\n",
    "상호작용하지 않는 입자 총 $N=1000$개가 박스 안에 들어있다고 가정합시다. 또한 문제를 간단히 하기 위해 $2m=\\hbar=1$, $L=\\pi$로 가정합시다. 열적 요동에 의해 입자들은 각자 에너지 상태가 바뀔 수 있습니다. 단 열적 요동이 아주 크지는 않아서 상태는 한 단계씩만 변화한다고 가정해봅시다. 그렇다면 무작위로 고른 하나의 입자의 상태가 바뀌어 에너지 고유값이 한 단계 증가했다면 그 때 에너지 차이는 다음과 같습니다.\n",
    "$$ \\Delta E = (n+1)^2- (n)^2 = ( 2 n +1)$$\n",
    "비슷한 방식으로 에너지가 감소했다면 에너지 차이는 다음과 같습니다.\n",
    "$$ \\Delta E =( -2 n +1)$$\n"
   ]
  },
  {
   "cell_type": "markdown",
   "metadata": {},
   "source": [
    "초기에 모든 입자가 바닥상태(n=1)에 존재하고 있었다고 가정하고 메트로폴리스 알고리즘을 이용하여 온도($kT$)를 바꾸어가면서 \n",
    "1. 총 에너지 $\\sum_{i=1}^{N} E_n = \\sum_i n_i^2$\n",
    "2. 에너지에 따른 입자의 분포를 측정해 봅시다. (즉 볼츠만 분포를 따르는지)"
   ]
  },
  {
   "cell_type": "code",
   "execution_count": 74,
   "metadata": {},
   "outputs": [],
   "source": [
    "#N=1000 \n",
    "def E(beta,iter,N):\n",
    "    particles_n=np.ones(N)\n",
    "    for iteration in range(iter):\n",
    "        i=random.randint(0,N-1)\n",
    "        u=random.randint(0,2)\n",
    "        if u==1: #에너지 증가 시도\n",
    "            DE=2*particles_n[i]+1 \n",
    "            if random.random()<np.exp(-beta*DE):\n",
    "                particles_n[i]+=1\n",
    "        else:\n",
    "            if particles_n[i]!=1:\n",
    "                particles_n[i]-=1\n",
    "    return particles_n\n",
    "\n"
   ]
  },
  {
   "cell_type": "code",
   "execution_count": 83,
   "metadata": {},
   "outputs": [],
   "source": [
    "a=E(1/3000,10000,1000)\n"
   ]
  },
  {
   "cell_type": "code",
   "execution_count": 88,
   "metadata": {
    "scrolled": true
   },
   "outputs": [],
   "source": [
    "result1=np.unique(a, return_counts = True)\n",
    "#beta 1/3000"
   ]
  },
  {
   "cell_type": "code",
   "execution_count": 89,
   "metadata": {},
   "outputs": [],
   "source": [
    "b=E(1/8000,10000,1000)\n",
    "result2=np.unique(b, return_counts = True)\n",
    "#beta 1/8000"
   ]
  },
  {
   "cell_type": "code",
   "execution_count": 93,
   "metadata": {},
   "outputs": [
    {
     "data": {
      "text/plain": [
       "[<matplotlib.lines.Line2D at 0x21b0fa26f40>]"
      ]
     },
     "execution_count": 93,
     "metadata": {},
     "output_type": "execute_result"
    },
    {
     "data": {
      "image/png": "[encoded data removed]",
      "text/plain": [
       "<Figure size 432x288 with 1 Axes>"
      ]
     },
     "metadata": {
      "needs_background": "light"
     },
     "output_type": "display_data"
    }
   ],
   "source": [
    "plt.plot(result1[0],result1[1])"
   ]
  },
  {
   "cell_type": "code",
   "execution_count": 94,
   "metadata": {},
   "outputs": [
    {
     "data": {
      "text/plain": [
       "[<matplotlib.lines.Line2D at 0x21b0fa79fd0>]"
      ]
     },
     "execution_count": 94,
     "metadata": {},
     "output_type": "execute_result"
    },
    {
     "data": {
      "image/png": "[encoded data removed]",
      "text/plain": [
       "<Figure size 432x288 with 1 Axes>"
      ]
     },
     "metadata": {
      "needs_background": "light"
     },
     "output_type": "display_data"
    }
   ],
   "source": [
    "plt.plot(result2[0],result2[1])"
   ]
  },
  {
   "cell_type": "code",
   "execution_count": null,
   "metadata": {},
   "outputs": [],
   "source": []
  }
 ],
 "metadata": {
  "kernelspec": {
   "display_name": "Python 3",
   "language": "python",
   "name": "python3"
  },
  "language_info": {
   "codemirror_mode": {
    "name": "ipython",
    "version": 3
   },
   "file_extension": ".py",
   "mimetype": "text/x-python",
   "name": "python",
   "nbconvert_exporter": "python",
   "pygments_lexer": "ipython3",
   "version": "3.8.3"
  }
 },
 "nbformat": 4,
 "nbformat_minor": 2
}
