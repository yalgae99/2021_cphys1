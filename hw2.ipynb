{
 "cells": [
  {
   "cell_type": "markdown",
   "metadata": {},
   "source": [
    "# Logistic Map (part 2)"
   ]
  },
  {
   "cell_type": "markdown",
   "metadata": {},
   "source": [
    "로지스틱 맵은 다음처럼 주어진다.\n",
    "$$ f_{n+1} = r f_n (1- f_n). $$  \n",
    "\n",
    "주어진 $r$과 초기조건 $f_0$에 대해 $f_n$을 다음의 과정을 통해 구하여라. \n",
    "\n",
    "Reference:  \n",
    "https://ko.wikipedia.org/wiki/%EB%A1%9C%EC%A7%80%EC%8A%A4%ED%8B%B1_%EC%82%AC%EC%83%81"
   ]
  },
  {
   "cell_type": "markdown",
   "metadata": {},
   "source": [
    "1. $f_n$을 구하는 함수를 작성하여라.\n",
    "2. 작성한 함수를 이용하여 다음의 조건에서 $n=1$에서 $20$까지 로지스틱 맵의 값을 구하여라.\n",
    "  * $r=4.5$, $f_0$=0.5\n",
    "  * $r=4.5$, $f_0$=0.51\n",
    "  * $r=4.5$, $f_0$=0.501\n",
    "3. 초기조건에 민감함을 확인하여라."
   ]
  },
  {
   "cell_type": "markdown",
   "metadata": {},
   "source": [
    "# 피보나치 수 (Fibonacci numbers)"
   ]
  },
  {
   "cell_type": "markdown",
   "metadata": {},
   "source": [
    "피보나치 수(Fibonacci numbers)는 처음 두 개의 항이 1이며 그 뒤의 모든 항은 앞의 두 개의 항의 합으로 주어지는 수열이다. 따라서 다음처럼 주어지는 수열이다.   \n",
    "\n",
    "$$1, 1, 2, 3, 5, 8, \\cdots$$  \n",
    "\n",
    "$n$번째 피보나치 수 $F_n$은 다음의 식으로 구할 수 있다.\n",
    "$F_1=F_2=1$,  $F_n=F_{n-1}+F_{n-2}$, ($n \\in \\{3,4,\\cdots \\} $)\n",
    "\n",
    "\n",
    "$n$번째 피보나치 수를 구하는 함수를 프로그래밍하여라. "
   ]
  },
  {
   "cell_type": "markdown",
   "metadata": {},
   "source": [
    "### 숙제 마감시간은 3월 22일 자정입니다."
   ]
  },
  {
   "cell_type": "code",
   "execution_count": 1,
   "metadata": {},
   "outputs": [],
   "source": [
    "import numpy as np\n",
    "import matplotlib.pyplot as plt"
   ]
  },
  {
   "cell_type": "code",
   "execution_count": 2,
   "metadata": {},
   "outputs": [],
   "source": [
    "def logistic(n,r,f0):\n",
    "    if n==0:\n",
    "        return f0\n",
    "    else:\n",
    "        f=f0\n",
    "        for i in range(n):\n",
    "            f=r*f*(1-f)\n",
    "        return f\n",
    "            "
   ]
  },
  {
   "cell_type": "code",
   "execution_count": 25,
   "metadata": {},
   "outputs": [
    {
     "name": "stdout",
     "output_type": "stream",
     "text": [
      "[0.5, 1.125, -0.6328125, -4.649688720703125, -118.21182264061645, -63415.11075595729, -18096928592.854885, -1.4737447103084353e+21, -9.773655620229423e+42, -4.298595488227898e+86, -8.315065427135959e+173, -inf, -inf, -inf, -inf, -inf, -inf, -inf, -inf, -inf, -inf]\n"
     ]
    }
   ],
   "source": [
    "result1=[]\n",
    "for n in range(21):\n",
    "    result1.append(logistic(n,4.5,0.5))\n",
    "print(result1)"
   ]
  },
  {
   "cell_type": "code",
   "execution_count": 26,
   "metadata": {},
   "outputs": [
    {
     "name": "stdout",
     "output_type": "stream",
     "text": [
      "[0.51, 1.12455, -0.6302821612499996, -4.623919938179865, -117.0204998979472, -62148.68053318534, -17381342883.134087, -1.359499861973058e+21, -8.317079436171436e+42, -3.11282146564136e+86, -4.360345864630932e+173, -inf, -inf, -inf, -inf, -inf, -inf, -inf, -inf, -inf, -inf]\n"
     ]
    }
   ],
   "source": [
    "result2=[]\n",
    "for n in range(21):\n",
    "    result2.append(logistic(n,4.5,0.51))\n",
    "print(result2)"
   ]
  },
  {
   "cell_type": "code",
   "execution_count": 27,
   "metadata": {},
   "outputs": [
    {
     "name": "stdout",
     "output_type": "stream",
     "text": [
      "[0.501, 1.1249955, -0.6327871875911253, -4.649430655667751, -118.19986234888862, -63402.33294740298, -18089636514.7783, -1.4725572716470052e+21, -9.757912132262123e+42, -4.2847582131426745e+86, -8.261618825292122e+173, -inf, -inf, -inf, -inf, -inf, -inf, -inf, -inf, -inf, -inf]\n"
     ]
    }
   ],
   "source": [
    "result3=[]\n",
    "for n in range(21):\n",
    "    result3.append(logistic(n,4.5,0.501))\n",
    "print(result3)"
   ]
  },
  {
   "cell_type": "code",
   "execution_count": 34,
   "metadata": {},
   "outputs": [],
   "source": [
    "def fibonacci(n):\n",
    "    if n==1 or n==2:\n",
    "        return 1\n",
    "    else:\n",
    "        f_1=1\n",
    "        f_2=1\n",
    "        for step in range(n-2):\n",
    "            new=f_1+f_2\n",
    "            f_2=f_1\n",
    "            f_1=new\n",
    "        return new\n",
    "            \n",
    "            "
   ]
  },
  {
   "cell_type": "code",
   "execution_count": null,
   "metadata": {},
   "outputs": [],
   "source": []
  }
 ],
 "metadata": {
  "kernelspec": {
   "display_name": "Python 3",
   "language": "python",
   "name": "python3"
  },
  "language_info": {
   "codemirror_mode": {
    "name": "ipython",
    "version": 3
   },
   "file_extension": ".py",
   "mimetype": "text/x-python",
   "name": "python",
   "nbconvert_exporter": "python",
   "pygments_lexer": "ipython3",
   "version": "3.8.3"
  }
 },
 "nbformat": 4,
 "nbformat_minor": 2
}
