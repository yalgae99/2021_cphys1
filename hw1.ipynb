{
 "cells": [
  {
   "cell_type": "markdown",
   "metadata": {},
   "source": [
    "- \"*\" 표식이 있는 숙제는 미제출"
   ]
  },
  {
   "cell_type": "markdown",
   "metadata": {},
   "source": [
    "# Anaconda & Jupyter *"
   ]
  },
  {
   "cell_type": "markdown",
   "metadata": {},
   "source": [
    "수업 실습을 진행하기 위해 아나콘다 배포판을 설치하여야 합니다. \n",
    "\n",
    "* 다음의 링크로 들어가서 아나콘다를 설치합시다. https://www.anaconda.com/distribution\n",
    "* Jupyter(아나콘다를 설치했다면이미 설치되어 있음) 사용법을 익혀둡니다.   \n",
    "* 본 강의는 아나콘다 배포판을 설치하고 쥬피터를 사용하는 것을 기본으로 진행합니다."
   ]
  },
  {
   "cell_type": "markdown",
   "metadata": {},
   "source": [
    "# Github desktop *"
   ]
  },
  {
   "cell_type": "markdown",
   "metadata": {},
   "source": [
    "다음의 차례대로 깃허브 사용법을 익히고 아래 과제를 자신의 깃허브 저장소에 업로드(push)하시기 바랍니다.\n",
    "1. github에 계정을 만든다.\n",
    "2. 새로운 저장소(repository)를 만든다. (create a new repository)\n",
    "3. github desktop을 다운로드 및 설치한다.\n",
    "4. 온라인 상의 저장소를 로컬컴퓨터로 가져온다. (pull)\n",
    "5. commit, push로 내 컴퓨터에 있는 파일을 저장소에 업데이트한다.\n",
    "\n",
    "참고 : 구글에 \"깃허브 사용법\", \"깃허브 데스크탑 사용법\"을 검색하세요."
   ]
  },
  {
   "cell_type": "markdown",
   "metadata": {},
   "source": [
    "# Logistic Map"
   ]
  },
  {
   "cell_type": "markdown",
   "metadata": {},
   "source": [
    "로지스틱 맵은 다음처럼 주어진다.\n",
    "$$ f_{n+1} = r f_n (1- f_n). $$  \n",
    "\n",
    "주어진 $r$과 초기조건 $f_0$에 대해,\n",
    "반복문(while or for)을 이용해서 $n$이 1~10일 때 $f_n$을 구하여라. \n",
    "\n",
    "\n",
    "Reference:  \n",
    "https://ko.wikipedia.org/wiki/%EB%A1%9C%EC%A7%80%EC%8A%A4%ED%8B%B1_%EC%82%AC%EC%83%81"
   ]
  },
  {
   "cell_type": "markdown",
   "metadata": {},
   "source": [
    "1. $r=0.5$, $f_0=0.5$\n",
    "2. $r=2.5$, $f_0=0.5$\n",
    "3. $r=4.5$, $f_0=0.5$\n",
    "4. $r=4.5$, $f_0=0.51$\n"
   ]
  },
  {
   "cell_type": "markdown",
   "metadata": {},
   "source": [
    "### 숙제 마감시간은 3월 15일 자정입니다."
   ]
  },
  {
   "cell_type": "code",
   "execution_count": 1,
   "metadata": {},
   "outputs": [],
   "source": [
    "import matplotlib.pyplot as plt"
   ]
  },
  {
   "cell_type": "code",
   "execution_count": 8,
   "metadata": {},
   "outputs": [],
   "source": [
    "def logistic(r,f0):\n",
    "    f=[]\n",
    "    a=f0\n",
    "    while len(f)<11:\n",
    "        f.append(a)\n",
    "        a=r*a*(1-a)\n",
    "    plt.plot([0,1,2,3,4,5,6,7,8,9,10],f,'bo')\n",
    "    plt.xlabel('n')\n",
    "    plt.ylabel('f(n)')\n",
    "    plt.show()\n",
    "    return f\n"
   ]
  },
  {
   "cell_type": "code",
   "execution_count": 9,
   "metadata": {},
   "outputs": [
    {
     "data": {
      "image/png": "[encoded data removed]",
      "text/plain": [
       "<Figure size 432x288 with 1 Axes>"
      ]
     },
     "metadata": {
      "needs_background": "light"
     },
     "output_type": "display_data"
    },
    {
     "name": "stdout",
     "output_type": "stream",
     "text": [
      "[0.5, 0.125, 0.0546875, 0.025848388671875, 0.012590124737471342, 0.006215806748283127, 0.0030885852473755623, 0.0015395229442726282, 0.0007685764066883431, 0.00038399284849771257, 0.0001919226989950076]\n"
     ]
    }
   ],
   "source": [
    "#1\n",
    "print(logistic(0.5,0.5))"
   ]
  },
  {
   "cell_type": "code",
   "execution_count": 12,
   "metadata": {},
   "outputs": [
    {
     "data": {
      "image/png": "[encoded data removed]",
      "text/plain": [
       "<Figure size 432x288 with 1 Axes>"
      ]
     },
     "metadata": {
      "needs_background": "light"
     },
     "output_type": "display_data"
    },
    {
     "name": "stdout",
     "output_type": "stream",
     "text": [
      "[0.5, 0.625, 0.5859375, 0.606536865234375, 0.5966247408650815, 0.6016591486318896, 0.5991635437485985, 0.6004164789780495, 0.5997913268741273, 0.6001042277017528, 0.599947858990589]\n"
     ]
    }
   ],
   "source": [
    "#2\n",
    "print(logistic(2.5,0.5))"
   ]
  },
  {
   "cell_type": "code",
   "execution_count": 10,
   "metadata": {},
   "outputs": [
    {
     "data": {
      "image/png": "[encoded data removed]",
      "text/plain": [
       "<Figure size 432x288 with 1 Axes>"
      ]
     },
     "metadata": {
      "needs_background": "light"
     },
     "output_type": "display_data"
    },
    {
     "name": "stdout",
     "output_type": "stream",
     "text": [
      "[0.5, 1.125, -0.6328125, -4.649688720703125, -118.21182264061645, -63415.11075595729, -18096928592.854885, -1.4737447103084353e+21, -9.773655620229423e+42, -4.298595488227898e+86, -8.315065427135959e+173]\n"
     ]
    }
   ],
   "source": [
    "#3 \n",
    "print(logistic(4.5,0.5))"
   ]
  },
  {
   "cell_type": "code",
   "execution_count": 11,
   "metadata": {},
   "outputs": [
    {
     "data": {
      "image/png": "[encoded data removed]",
      "text/plain": [
       "<Figure size 432x288 with 1 Axes>"
      ]
     },
     "metadata": {
      "needs_background": "light"
     },
     "output_type": "display_data"
    },
    {
     "name": "stdout",
     "output_type": "stream",
     "text": [
      "[0.51, 1.12455, -0.6302821612499996, -4.623919938179865, -117.0204998979472, -62148.68053318534, -17381342883.134087, -1.359499861973058e+21, -8.317079436171436e+42, -3.11282146564136e+86, -4.360345864630932e+173]\n"
     ]
    }
   ],
   "source": [
    "#4\n",
    "print(logistic(4.5,0.51))"
   ]
  },
  {
   "cell_type": "code",
   "execution_count": null,
   "metadata": {},
   "outputs": [],
   "source": []
  },
  {
   "cell_type": "code",
   "execution_count": null,
   "metadata": {},
   "outputs": [],
   "source": []
  },
  {
   "cell_type": "code",
   "execution_count": null,
   "metadata": {},
   "outputs": [],
   "source": []
  },
  {
   "cell_type": "code",
   "execution_count": null,
   "metadata": {},
   "outputs": [],
   "source": []
  }
 ],
 "metadata": {
  "kernelspec": {
   "display_name": "Python 3",
   "language": "python",
   "name": "python3"
  },
  "language_info": {
   "codemirror_mode": {
    "name": "ipython",
    "version": 3
   },
   "file_extension": ".py",
   "mimetype": "text/x-python",
   "name": "python",
   "nbconvert_exporter": "python",
   "pygments_lexer": "ipython3",
   "version": "3.8.3"
  }
 },
 "nbformat": 4,
 "nbformat_minor": 2
}
